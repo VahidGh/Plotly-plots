from IPython.display import IFrame
IFrame(src= "Data/DASHBOARD.html", width="100%", height="950px", frameBorder="0")
